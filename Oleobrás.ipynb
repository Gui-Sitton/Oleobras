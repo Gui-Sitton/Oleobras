{
 "cells": [
  {
   "cell_type": "markdown",
   "metadata": {},
   "source": [
    "# Oleobrás\n",
    "\n",
    "You work for the mining company Oleobrás. Your task is to find the best place for a new well.\n",
    "\n",
    "*Steps to choose the location:*\n",
    "\n",
    "* Collect the parameters of oil wells in the selected region: the quality of the oil and the volume of reserves;\n",
    "* Build a model to predict the volume of reserves in the new wells;\n",
    "* Choose the oil wells with the highest estimated values;\n",
    "* Choose the region with the highest total profit for the selected oil wells.\n",
    "\n",
    "You have data on oil samples from three regions. The parameters of each oil well in the region are already known. Build a model that will help you choose the region with the highest profit margin. Use the Bootstrapping technique to analyze potential profit and risks\n",
    "\n",
    "**Conditions**\n",
    "* Only linear regression can be used to train the model (the rest are not predictive enough).\n",
    "* When exploring the region, a study of 500 points is carried out and the best 200 points are selected to calculate the profit.\n",
    "* The budget for developing 200 oil wells is 100 million dollars.\n",
    "* A barrel of crude oil brings in 4.5 dollars in revenue. The revenue from one unit of product is 4,500 dollars (the volume of reserves is in thousands of barrels).\n",
    "* Once you have assessed the risks, keep only those regions with a risk of loss of less than 2.5%. Among those that fit the criteria, you need to select the region with the highest average profit.\n",
    "\n",
    "The data is synthetic and does not include any details of contracts or well characteristics."
   ]
  },
  {
   "cell_type": "markdown",
   "metadata": {},
   "source": [
    "## Libraries & Visualization"
   ]
  },
  {
   "cell_type": "code",
   "execution_count": 1,
   "metadata": {},
   "outputs": [],
   "source": [
    "import pandas as pd\n",
    "import numpy as np\n",
    "from sklearn.linear_model import LinearRegression\n",
    "from sklearn.metrics import mean_squared_error, mean_absolute_error\n",
    "from sklearn.model_selection import train_test_split\n",
    "from sklearn.preprocessing import StandardScaler\n",
    "from sklearn.utils import shuffle\n",
    "from sklearn.model_selection import cross_val_score\n",
    "import matplotlib.pyplot as plt\n"
   ]
  },
  {
   "cell_type": "code",
   "execution_count": 4,
   "metadata": {},
   "outputs": [
    {
     "data": {
      "text/html": [
       "<div>\n",
       "<style scoped>\n",
       "    .dataframe tbody tr th:only-of-type {\n",
       "        vertical-align: middle;\n",
       "    }\n",
       "\n",
       "    .dataframe tbody tr th {\n",
       "        vertical-align: top;\n",
       "    }\n",
       "\n",
       "    .dataframe thead th {\n",
       "        text-align: right;\n",
       "    }\n",
       "</style>\n",
       "<table border=\"1\" class=\"dataframe\">\n",
       "  <thead>\n",
       "    <tr style=\"text-align: right;\">\n",
       "      <th></th>\n",
       "      <th>id</th>\n",
       "      <th>f0</th>\n",
       "      <th>f1</th>\n",
       "      <th>f2</th>\n",
       "      <th>product</th>\n",
       "    </tr>\n",
       "  </thead>\n",
       "  <tbody>\n",
       "    <tr>\n",
       "      <th>0</th>\n",
       "      <td>txEyH</td>\n",
       "      <td>0.705745</td>\n",
       "      <td>-0.497823</td>\n",
       "      <td>1.221170</td>\n",
       "      <td>105.280062</td>\n",
       "    </tr>\n",
       "    <tr>\n",
       "      <th>1</th>\n",
       "      <td>2acmU</td>\n",
       "      <td>1.334711</td>\n",
       "      <td>-0.340164</td>\n",
       "      <td>4.365080</td>\n",
       "      <td>73.037750</td>\n",
       "    </tr>\n",
       "    <tr>\n",
       "      <th>2</th>\n",
       "      <td>409Wp</td>\n",
       "      <td>1.022732</td>\n",
       "      <td>0.151990</td>\n",
       "      <td>1.419926</td>\n",
       "      <td>85.265647</td>\n",
       "    </tr>\n",
       "    <tr>\n",
       "      <th>3</th>\n",
       "      <td>iJLyR</td>\n",
       "      <td>-0.032172</td>\n",
       "      <td>0.139033</td>\n",
       "      <td>2.978566</td>\n",
       "      <td>168.620776</td>\n",
       "    </tr>\n",
       "    <tr>\n",
       "      <th>4</th>\n",
       "      <td>Xdl7t</td>\n",
       "      <td>1.988431</td>\n",
       "      <td>0.155413</td>\n",
       "      <td>4.751769</td>\n",
       "      <td>154.036647</td>\n",
       "    </tr>\n",
       "    <tr>\n",
       "      <th>...</th>\n",
       "      <td>...</td>\n",
       "      <td>...</td>\n",
       "      <td>...</td>\n",
       "      <td>...</td>\n",
       "      <td>...</td>\n",
       "    </tr>\n",
       "    <tr>\n",
       "      <th>99995</th>\n",
       "      <td>DLsed</td>\n",
       "      <td>0.971957</td>\n",
       "      <td>0.370953</td>\n",
       "      <td>6.075346</td>\n",
       "      <td>110.744026</td>\n",
       "    </tr>\n",
       "    <tr>\n",
       "      <th>99996</th>\n",
       "      <td>QKivN</td>\n",
       "      <td>1.392429</td>\n",
       "      <td>-0.382606</td>\n",
       "      <td>1.273912</td>\n",
       "      <td>122.346843</td>\n",
       "    </tr>\n",
       "    <tr>\n",
       "      <th>99997</th>\n",
       "      <td>3rnvd</td>\n",
       "      <td>1.029585</td>\n",
       "      <td>0.018787</td>\n",
       "      <td>-1.348308</td>\n",
       "      <td>64.375443</td>\n",
       "    </tr>\n",
       "    <tr>\n",
       "      <th>99998</th>\n",
       "      <td>7kl59</td>\n",
       "      <td>0.998163</td>\n",
       "      <td>-0.528582</td>\n",
       "      <td>1.583869</td>\n",
       "      <td>74.040764</td>\n",
       "    </tr>\n",
       "    <tr>\n",
       "      <th>99999</th>\n",
       "      <td>1CWhH</td>\n",
       "      <td>1.764754</td>\n",
       "      <td>-0.266417</td>\n",
       "      <td>5.722849</td>\n",
       "      <td>149.633246</td>\n",
       "    </tr>\n",
       "  </tbody>\n",
       "</table>\n",
       "<p>100000 rows × 5 columns</p>\n",
       "</div>"
      ],
      "text/plain": [
       "          id        f0        f1        f2     product\n",
       "0      txEyH  0.705745 -0.497823  1.221170  105.280062\n",
       "1      2acmU  1.334711 -0.340164  4.365080   73.037750\n",
       "2      409Wp  1.022732  0.151990  1.419926   85.265647\n",
       "3      iJLyR -0.032172  0.139033  2.978566  168.620776\n",
       "4      Xdl7t  1.988431  0.155413  4.751769  154.036647\n",
       "...      ...       ...       ...       ...         ...\n",
       "99995  DLsed  0.971957  0.370953  6.075346  110.744026\n",
       "99996  QKivN  1.392429 -0.382606  1.273912  122.346843\n",
       "99997  3rnvd  1.029585  0.018787 -1.348308   64.375443\n",
       "99998  7kl59  0.998163 -0.528582  1.583869   74.040764\n",
       "99999  1CWhH  1.764754 -0.266417  5.722849  149.633246\n",
       "\n",
       "[100000 rows x 5 columns]"
      ]
     },
     "metadata": {},
     "output_type": "display_data"
    },
    {
     "data": {
      "text/html": [
       "<div>\n",
       "<style scoped>\n",
       "    .dataframe tbody tr th:only-of-type {\n",
       "        vertical-align: middle;\n",
       "    }\n",
       "\n",
       "    .dataframe tbody tr th {\n",
       "        vertical-align: top;\n",
       "    }\n",
       "\n",
       "    .dataframe thead th {\n",
       "        text-align: right;\n",
       "    }\n",
       "</style>\n",
       "<table border=\"1\" class=\"dataframe\">\n",
       "  <thead>\n",
       "    <tr style=\"text-align: right;\">\n",
       "      <th></th>\n",
       "      <th>id</th>\n",
       "      <th>f0</th>\n",
       "      <th>f1</th>\n",
       "      <th>f2</th>\n",
       "      <th>product</th>\n",
       "    </tr>\n",
       "  </thead>\n",
       "  <tbody>\n",
       "    <tr>\n",
       "      <th>0</th>\n",
       "      <td>kBEdx</td>\n",
       "      <td>-15.001348</td>\n",
       "      <td>-8.276000</td>\n",
       "      <td>-0.005876</td>\n",
       "      <td>3.179103</td>\n",
       "    </tr>\n",
       "    <tr>\n",
       "      <th>1</th>\n",
       "      <td>62mP7</td>\n",
       "      <td>14.272088</td>\n",
       "      <td>-3.475083</td>\n",
       "      <td>0.999183</td>\n",
       "      <td>26.953261</td>\n",
       "    </tr>\n",
       "    <tr>\n",
       "      <th>2</th>\n",
       "      <td>vyE1P</td>\n",
       "      <td>6.263187</td>\n",
       "      <td>-5.948386</td>\n",
       "      <td>5.001160</td>\n",
       "      <td>134.766305</td>\n",
       "    </tr>\n",
       "    <tr>\n",
       "      <th>3</th>\n",
       "      <td>KcrkZ</td>\n",
       "      <td>-13.081196</td>\n",
       "      <td>-11.506057</td>\n",
       "      <td>4.999415</td>\n",
       "      <td>137.945408</td>\n",
       "    </tr>\n",
       "    <tr>\n",
       "      <th>4</th>\n",
       "      <td>AHL4O</td>\n",
       "      <td>12.702195</td>\n",
       "      <td>-8.147433</td>\n",
       "      <td>5.004363</td>\n",
       "      <td>134.766305</td>\n",
       "    </tr>\n",
       "    <tr>\n",
       "      <th>...</th>\n",
       "      <td>...</td>\n",
       "      <td>...</td>\n",
       "      <td>...</td>\n",
       "      <td>...</td>\n",
       "      <td>...</td>\n",
       "    </tr>\n",
       "    <tr>\n",
       "      <th>99995</th>\n",
       "      <td>QywKC</td>\n",
       "      <td>9.535637</td>\n",
       "      <td>-6.878139</td>\n",
       "      <td>1.998296</td>\n",
       "      <td>53.906522</td>\n",
       "    </tr>\n",
       "    <tr>\n",
       "      <th>99996</th>\n",
       "      <td>ptvty</td>\n",
       "      <td>-10.160631</td>\n",
       "      <td>-12.558096</td>\n",
       "      <td>5.005581</td>\n",
       "      <td>137.945408</td>\n",
       "    </tr>\n",
       "    <tr>\n",
       "      <th>99997</th>\n",
       "      <td>09gWa</td>\n",
       "      <td>-7.378891</td>\n",
       "      <td>-3.084104</td>\n",
       "      <td>4.998651</td>\n",
       "      <td>137.945408</td>\n",
       "    </tr>\n",
       "    <tr>\n",
       "      <th>99998</th>\n",
       "      <td>rqwUm</td>\n",
       "      <td>0.665714</td>\n",
       "      <td>-6.152593</td>\n",
       "      <td>1.000146</td>\n",
       "      <td>30.132364</td>\n",
       "    </tr>\n",
       "    <tr>\n",
       "      <th>99999</th>\n",
       "      <td>relB0</td>\n",
       "      <td>-3.426139</td>\n",
       "      <td>-7.794274</td>\n",
       "      <td>-0.003299</td>\n",
       "      <td>3.179103</td>\n",
       "    </tr>\n",
       "  </tbody>\n",
       "</table>\n",
       "<p>100000 rows × 5 columns</p>\n",
       "</div>"
      ],
      "text/plain": [
       "          id         f0         f1        f2     product\n",
       "0      kBEdx -15.001348  -8.276000 -0.005876    3.179103\n",
       "1      62mP7  14.272088  -3.475083  0.999183   26.953261\n",
       "2      vyE1P   6.263187  -5.948386  5.001160  134.766305\n",
       "3      KcrkZ -13.081196 -11.506057  4.999415  137.945408\n",
       "4      AHL4O  12.702195  -8.147433  5.004363  134.766305\n",
       "...      ...        ...        ...       ...         ...\n",
       "99995  QywKC   9.535637  -6.878139  1.998296   53.906522\n",
       "99996  ptvty -10.160631 -12.558096  5.005581  137.945408\n",
       "99997  09gWa  -7.378891  -3.084104  4.998651  137.945408\n",
       "99998  rqwUm   0.665714  -6.152593  1.000146   30.132364\n",
       "99999  relB0  -3.426139  -7.794274 -0.003299    3.179103\n",
       "\n",
       "[100000 rows x 5 columns]"
      ]
     },
     "metadata": {},
     "output_type": "display_data"
    },
    {
     "data": {
      "text/html": [
       "<div>\n",
       "<style scoped>\n",
       "    .dataframe tbody tr th:only-of-type {\n",
       "        vertical-align: middle;\n",
       "    }\n",
       "\n",
       "    .dataframe tbody tr th {\n",
       "        vertical-align: top;\n",
       "    }\n",
       "\n",
       "    .dataframe thead th {\n",
       "        text-align: right;\n",
       "    }\n",
       "</style>\n",
       "<table border=\"1\" class=\"dataframe\">\n",
       "  <thead>\n",
       "    <tr style=\"text-align: right;\">\n",
       "      <th></th>\n",
       "      <th>id</th>\n",
       "      <th>f0</th>\n",
       "      <th>f1</th>\n",
       "      <th>f2</th>\n",
       "      <th>product</th>\n",
       "    </tr>\n",
       "  </thead>\n",
       "  <tbody>\n",
       "    <tr>\n",
       "      <th>0</th>\n",
       "      <td>fwXo0</td>\n",
       "      <td>-1.146987</td>\n",
       "      <td>0.963328</td>\n",
       "      <td>-0.828965</td>\n",
       "      <td>27.758673</td>\n",
       "    </tr>\n",
       "    <tr>\n",
       "      <th>1</th>\n",
       "      <td>WJtFt</td>\n",
       "      <td>0.262778</td>\n",
       "      <td>0.269839</td>\n",
       "      <td>-2.530187</td>\n",
       "      <td>56.069697</td>\n",
       "    </tr>\n",
       "    <tr>\n",
       "      <th>2</th>\n",
       "      <td>ovLUW</td>\n",
       "      <td>0.194587</td>\n",
       "      <td>0.289035</td>\n",
       "      <td>-5.586433</td>\n",
       "      <td>62.871910</td>\n",
       "    </tr>\n",
       "    <tr>\n",
       "      <th>3</th>\n",
       "      <td>q6cA6</td>\n",
       "      <td>2.236060</td>\n",
       "      <td>-0.553760</td>\n",
       "      <td>0.930038</td>\n",
       "      <td>114.572842</td>\n",
       "    </tr>\n",
       "    <tr>\n",
       "      <th>4</th>\n",
       "      <td>WPMUX</td>\n",
       "      <td>-0.515993</td>\n",
       "      <td>1.716266</td>\n",
       "      <td>5.899011</td>\n",
       "      <td>149.600746</td>\n",
       "    </tr>\n",
       "    <tr>\n",
       "      <th>...</th>\n",
       "      <td>...</td>\n",
       "      <td>...</td>\n",
       "      <td>...</td>\n",
       "      <td>...</td>\n",
       "      <td>...</td>\n",
       "    </tr>\n",
       "    <tr>\n",
       "      <th>99995</th>\n",
       "      <td>4GxBu</td>\n",
       "      <td>-1.777037</td>\n",
       "      <td>1.125220</td>\n",
       "      <td>6.263374</td>\n",
       "      <td>172.327046</td>\n",
       "    </tr>\n",
       "    <tr>\n",
       "      <th>99996</th>\n",
       "      <td>YKFjq</td>\n",
       "      <td>-1.261523</td>\n",
       "      <td>-0.894828</td>\n",
       "      <td>2.524545</td>\n",
       "      <td>138.748846</td>\n",
       "    </tr>\n",
       "    <tr>\n",
       "      <th>99997</th>\n",
       "      <td>tKPY3</td>\n",
       "      <td>-1.199934</td>\n",
       "      <td>-2.957637</td>\n",
       "      <td>5.219411</td>\n",
       "      <td>157.080080</td>\n",
       "    </tr>\n",
       "    <tr>\n",
       "      <th>99998</th>\n",
       "      <td>nmxp2</td>\n",
       "      <td>-2.419896</td>\n",
       "      <td>2.417221</td>\n",
       "      <td>-5.548444</td>\n",
       "      <td>51.795253</td>\n",
       "    </tr>\n",
       "    <tr>\n",
       "      <th>99999</th>\n",
       "      <td>V9kWn</td>\n",
       "      <td>-2.551421</td>\n",
       "      <td>-2.025625</td>\n",
       "      <td>6.090891</td>\n",
       "      <td>102.775767</td>\n",
       "    </tr>\n",
       "  </tbody>\n",
       "</table>\n",
       "<p>100000 rows × 5 columns</p>\n",
       "</div>"
      ],
      "text/plain": [
       "          id        f0        f1        f2     product\n",
       "0      fwXo0 -1.146987  0.963328 -0.828965   27.758673\n",
       "1      WJtFt  0.262778  0.269839 -2.530187   56.069697\n",
       "2      ovLUW  0.194587  0.289035 -5.586433   62.871910\n",
       "3      q6cA6  2.236060 -0.553760  0.930038  114.572842\n",
       "4      WPMUX -0.515993  1.716266  5.899011  149.600746\n",
       "...      ...       ...       ...       ...         ...\n",
       "99995  4GxBu -1.777037  1.125220  6.263374  172.327046\n",
       "99996  YKFjq -1.261523 -0.894828  2.524545  138.748846\n",
       "99997  tKPY3 -1.199934 -2.957637  5.219411  157.080080\n",
       "99998  nmxp2 -2.419896  2.417221 -5.548444   51.795253\n",
       "99999  V9kWn -2.551421 -2.025625  6.090891  102.775767\n",
       "\n",
       "[100000 rows x 5 columns]"
      ]
     },
     "metadata": {},
     "output_type": "display_data"
    }
   ],
   "source": [
    "df0 = pd.read_csv(\"C:\\\\Users\\\\Guilherme\\\\Downloads\\\\geo_data_0 (1).csv\")\n",
    "df1 = pd.read_csv(\"C:\\\\Users\\\\Guilherme\\\\Downloads\\\\geo_data_1.csv\")\n",
    "df2 = pd.read_csv(\"C:\\\\Users\\\\Guilherme\\\\Downloads\\\\geo_data_2.csv\")\n",
    "display(df0,df1,df2)"
   ]
  },
  {
   "cell_type": "code",
   "execution_count": 5,
   "metadata": {},
   "outputs": [
    {
     "name": "stdout",
     "output_type": "stream",
     "text": [
      "<class 'pandas.core.frame.DataFrame'>\n",
      "RangeIndex: 100000 entries, 0 to 99999\n",
      "Data columns (total 5 columns):\n",
      " #   Column   Non-Null Count   Dtype  \n",
      "---  ------   --------------   -----  \n",
      " 0   id       100000 non-null  object \n",
      " 1   f0       100000 non-null  float64\n",
      " 2   f1       100000 non-null  float64\n",
      " 3   f2       100000 non-null  float64\n",
      " 4   product  100000 non-null  float64\n",
      "dtypes: float64(4), object(1)\n",
      "memory usage: 3.8+ MB\n",
      "None\n",
      "<class 'pandas.core.frame.DataFrame'>\n",
      "RangeIndex: 100000 entries, 0 to 99999\n",
      "Data columns (total 5 columns):\n",
      " #   Column   Non-Null Count   Dtype  \n",
      "---  ------   --------------   -----  \n",
      " 0   id       100000 non-null  object \n",
      " 1   f0       100000 non-null  float64\n",
      " 2   f1       100000 non-null  float64\n",
      " 3   f2       100000 non-null  float64\n",
      " 4   product  100000 non-null  float64\n",
      "dtypes: float64(4), object(1)\n",
      "memory usage: 3.8+ MB\n",
      "None\n",
      "<class 'pandas.core.frame.DataFrame'>\n",
      "RangeIndex: 100000 entries, 0 to 99999\n",
      "Data columns (total 5 columns):\n",
      " #   Column   Non-Null Count   Dtype  \n",
      "---  ------   --------------   -----  \n",
      " 0   id       100000 non-null  object \n",
      " 1   f0       100000 non-null  float64\n",
      " 2   f1       100000 non-null  float64\n",
      " 3   f2       100000 non-null  float64\n",
      " 4   product  100000 non-null  float64\n",
      "dtypes: float64(4), object(1)\n",
      "memory usage: 3.8+ MB\n"
     ]
    }
   ],
   "source": [
    "print(df0.info())\n",
    "print(df1.info())\n",
    "df2.info()"
   ]
  },
  {
   "cell_type": "code",
   "execution_count": 6,
   "metadata": {},
   "outputs": [],
   "source": [
    "def linhas_duplicadas(dataframe):\n",
    "    linhas_duplicadas = dataframe.duplicated()\n",
    "    return dataframe[linhas_duplicadas]\n"
   ]
  },
  {
   "cell_type": "code",
   "execution_count": 7,
   "metadata": {},
   "outputs": [
    {
     "data": {
      "text/html": [
       "<div>\n",
       "<style scoped>\n",
       "    .dataframe tbody tr th:only-of-type {\n",
       "        vertical-align: middle;\n",
       "    }\n",
       "\n",
       "    .dataframe tbody tr th {\n",
       "        vertical-align: top;\n",
       "    }\n",
       "\n",
       "    .dataframe thead th {\n",
       "        text-align: right;\n",
       "    }\n",
       "</style>\n",
       "<table border=\"1\" class=\"dataframe\">\n",
       "  <thead>\n",
       "    <tr style=\"text-align: right;\">\n",
       "      <th></th>\n",
       "      <th>id</th>\n",
       "      <th>f0</th>\n",
       "      <th>f1</th>\n",
       "      <th>f2</th>\n",
       "      <th>product</th>\n",
       "    </tr>\n",
       "  </thead>\n",
       "  <tbody>\n",
       "  </tbody>\n",
       "</table>\n",
       "</div>"
      ],
      "text/plain": [
       "Empty DataFrame\n",
       "Columns: [id, f0, f1, f2, product]\n",
       "Index: []"
      ]
     },
     "execution_count": 7,
     "metadata": {},
     "output_type": "execute_result"
    }
   ],
   "source": [
    "linhas_duplicadas(df0)"
   ]
  },
  {
   "cell_type": "code",
   "execution_count": 8,
   "metadata": {},
   "outputs": [
    {
     "data": {
      "text/html": [
       "<div>\n",
       "<style scoped>\n",
       "    .dataframe tbody tr th:only-of-type {\n",
       "        vertical-align: middle;\n",
       "    }\n",
       "\n",
       "    .dataframe tbody tr th {\n",
       "        vertical-align: top;\n",
       "    }\n",
       "\n",
       "    .dataframe thead th {\n",
       "        text-align: right;\n",
       "    }\n",
       "</style>\n",
       "<table border=\"1\" class=\"dataframe\">\n",
       "  <thead>\n",
       "    <tr style=\"text-align: right;\">\n",
       "      <th></th>\n",
       "      <th>id</th>\n",
       "      <th>f0</th>\n",
       "      <th>f1</th>\n",
       "      <th>f2</th>\n",
       "      <th>product</th>\n",
       "    </tr>\n",
       "  </thead>\n",
       "  <tbody>\n",
       "  </tbody>\n",
       "</table>\n",
       "</div>"
      ],
      "text/plain": [
       "Empty DataFrame\n",
       "Columns: [id, f0, f1, f2, product]\n",
       "Index: []"
      ]
     },
     "execution_count": 8,
     "metadata": {},
     "output_type": "execute_result"
    }
   ],
   "source": [
    "linhas_duplicadas(df1)"
   ]
  },
  {
   "cell_type": "code",
   "execution_count": 9,
   "metadata": {},
   "outputs": [
    {
     "data": {
      "text/html": [
       "<div>\n",
       "<style scoped>\n",
       "    .dataframe tbody tr th:only-of-type {\n",
       "        vertical-align: middle;\n",
       "    }\n",
       "\n",
       "    .dataframe tbody tr th {\n",
       "        vertical-align: top;\n",
       "    }\n",
       "\n",
       "    .dataframe thead th {\n",
       "        text-align: right;\n",
       "    }\n",
       "</style>\n",
       "<table border=\"1\" class=\"dataframe\">\n",
       "  <thead>\n",
       "    <tr style=\"text-align: right;\">\n",
       "      <th></th>\n",
       "      <th>id</th>\n",
       "      <th>f0</th>\n",
       "      <th>f1</th>\n",
       "      <th>f2</th>\n",
       "      <th>product</th>\n",
       "    </tr>\n",
       "  </thead>\n",
       "  <tbody>\n",
       "  </tbody>\n",
       "</table>\n",
       "</div>"
      ],
      "text/plain": [
       "Empty DataFrame\n",
       "Columns: [id, f0, f1, f2, product]\n",
       "Index: []"
      ]
     },
     "execution_count": 9,
     "metadata": {},
     "output_type": "execute_result"
    }
   ],
   "source": [
    "linhas_duplicadas(df2)"
   ]
  },
  {
   "cell_type": "code",
   "execution_count": 10,
   "metadata": {},
   "outputs": [
    {
     "data": {
      "image/png": "[encoded data removed]",
      "text/plain": [
       "<Figure size 640x480 with 1 Axes>"
      ]
     },
     "metadata": {},
     "output_type": "display_data"
    }
   ],
   "source": [
    "df0['product'].hist();"
   ]
  },
  {
   "cell_type": "code",
   "execution_count": 11,
   "metadata": {},
   "outputs": [
    {
     "data": {
      "image/png": "[encoded data removed]",
      "text/plain": [
       "<Figure size 640x480 with 1 Axes>"
      ]
     },
     "metadata": {},
     "output_type": "display_data"
    }
   ],
   "source": [
    "df1['product'].hist();"
   ]
  },
  {
   "cell_type": "code",
   "execution_count": 12,
   "metadata": {},
   "outputs": [
    {
     "data": {
      "image/png": "[encoded data removed]",
      "text/plain": [
       "<Figure size 640x480 with 1 Axes>"
      ]
     },
     "metadata": {},
     "output_type": "display_data"
    }
   ],
   "source": [
    "df2['product'].hist();"
   ]
  },
  {
   "cell_type": "markdown",
   "metadata": {},
   "source": [
    "* No adjustments should be made\n",
    "* A different structure is observed in the second region"
   ]
  },
  {
   "cell_type": "markdown",
   "metadata": {},
   "source": [
    "## Data Breakdown"
   ]
  },
  {
   "cell_type": "markdown",
   "metadata": {},
   "source": [
    "* No need for OHE and data scaling"
   ]
  },
  {
   "cell_type": "markdown",
   "metadata": {},
   "source": [
    "### First Region (df0)"
   ]
  },
  {
   "cell_type": "code",
   "execution_count": 13,
   "metadata": {},
   "outputs": [],
   "source": [
    "features0 = df0.drop(['id','product'], axis=1)\n",
    "target0= df0['product']"
   ]
  },
  {
   "cell_type": "code",
   "execution_count": 14,
   "metadata": {},
   "outputs": [],
   "source": [
    "df_train_0, df_valid_0 = train_test_split(df0, test_size=0.25, random_state=12345)\n"
   ]
  },
  {
   "cell_type": "code",
   "execution_count": 15,
   "metadata": {},
   "outputs": [
    {
     "name": "stdout",
     "output_type": "stream",
     "text": [
      "(75000, 3)\n",
      "(75000,)\n",
      "(25000, 3)\n",
      "(25000,)\n"
     ]
    }
   ],
   "source": [
    "features_train_0 = df_train_0.drop(['id','product'], axis=1)\n",
    "target_train_0 = df_train_0['product']\n",
    "\n",
    "features_valid_0 = df_valid_0.drop(['id','product'], axis=1)\n",
    "target_valid_0 = df_valid_0['product']\n",
    "\n",
    "\n",
    "print(features_train_0.shape)\n",
    "print(target_train_0.shape)\n",
    "print(features_valid_0.shape)\n",
    "print(target_valid_0.shape)"
   ]
  },
  {
   "cell_type": "markdown",
   "metadata": {},
   "source": [
    "### Second Region (df1)"
   ]
  },
  {
   "cell_type": "code",
   "execution_count": 16,
   "metadata": {},
   "outputs": [],
   "source": [
    "features1 = df1.drop(['id','product'], axis=1)\n",
    "target1= df1['product']"
   ]
  },
  {
   "cell_type": "code",
   "execution_count": 17,
   "metadata": {},
   "outputs": [],
   "source": [
    "df_train_1, df_valid_1 = train_test_split(df1, test_size=0.25, random_state=12345)"
   ]
  },
  {
   "cell_type": "code",
   "execution_count": 18,
   "metadata": {},
   "outputs": [
    {
     "name": "stdout",
     "output_type": "stream",
     "text": [
      "(75000, 3)\n",
      "(75000,)\n",
      "(25000, 3)\n",
      "(25000,)\n"
     ]
    }
   ],
   "source": [
    "features_train_1 = df_train_1.drop(['id','product'], axis=1)\n",
    "target_train_1 = df_train_1['product']\n",
    "\n",
    "features_valid_1 = df_valid_1.drop(['id','product'], axis=1)\n",
    "target_valid_1 = df_valid_1['product']\n",
    "\n",
    "\n",
    "print(features_train_1.shape)\n",
    "print(target_train_1.shape)\n",
    "print(features_valid_1.shape)\n",
    "print(target_valid_1.shape)"
   ]
  },
  {
   "cell_type": "markdown",
   "metadata": {},
   "source": [
    "### Third Region (df2)"
   ]
  },
  {
   "cell_type": "code",
   "execution_count": 19,
   "metadata": {},
   "outputs": [],
   "source": [
    "features2 = df2.drop(['id','product'], axis=1)\n",
    "target2= df2['product']"
   ]
  },
  {
   "cell_type": "code",
   "execution_count": 20,
   "metadata": {},
   "outputs": [],
   "source": [
    "df_train_2, df_valid_2 = train_test_split(df2, test_size=0.25, random_state=12345)"
   ]
  },
  {
   "cell_type": "code",
   "execution_count": 21,
   "metadata": {
    "scrolled": true
   },
   "outputs": [
    {
     "name": "stdout",
     "output_type": "stream",
     "text": [
      "(75000, 3)\n",
      "(75000,)\n",
      "(25000, 3)\n",
      "(25000,)\n"
     ]
    }
   ],
   "source": [
    "features_train_2 = df_train_2.drop(['id','product'], axis=1)\n",
    "target_train_2 = df_train_2['product']\n",
    "\n",
    "features_valid_2 = df_valid_2.drop(['id','product'], axis=1)\n",
    "target_valid_2 = df_valid_2['product']\n",
    "\n",
    "\n",
    "print(features_train_2.shape)\n",
    "print(target_train_2.shape)\n",
    "print(features_valid_2.shape)\n",
    "print(target_valid_2.shape)"
   ]
  },
  {
   "cell_type": "markdown",
   "metadata": {},
   "source": [
    "## Training & Testing"
   ]
  },
  {
   "cell_type": "markdown",
   "metadata": {},
   "source": [
    "### First Region (df0)"
   ]
  },
  {
   "cell_type": "code",
   "execution_count": 22,
   "metadata": {},
   "outputs": [
    {
     "name": "stdout",
     "output_type": "stream",
     "text": [
      "The RMSE of the linear regression model in the validation set: 37.5794217150813\n"
     ]
    }
   ],
   "source": [
    "model = LinearRegression()\n",
    "\n",
    "model.fit(features_train_0,target_train_0) \n",
    "predictions_valid = model.predict(features_valid_0)\n",
    "\n",
    "\n",
    "\n",
    "result = mean_squared_error(target_valid_0, predictions_valid)**0.5\n",
    "\n",
    "\n",
    "print(\"The RMSE of the linear regression model in the validation set:\", result)\n"
   ]
  },
  {
   "cell_type": "code",
   "execution_count": 25,
   "metadata": {},
   "outputs": [
    {
     "data": {
      "text/html": [
       "<div>\n",
       "<style scoped>\n",
       "    .dataframe tbody tr th:only-of-type {\n",
       "        vertical-align: middle;\n",
       "    }\n",
       "\n",
       "    .dataframe tbody tr th {\n",
       "        vertical-align: top;\n",
       "    }\n",
       "\n",
       "    .dataframe thead th {\n",
       "        text-align: right;\n",
       "    }\n",
       "</style>\n",
       "<table border=\"1\" class=\"dataframe\">\n",
       "  <thead>\n",
       "    <tr style=\"text-align: right;\">\n",
       "      <th></th>\n",
       "      <th>Predictions</th>\n",
       "      <th>Correct Answers</th>\n",
       "    </tr>\n",
       "  </thead>\n",
       "  <tbody>\n",
       "    <tr>\n",
       "      <th>71751</th>\n",
       "      <td>95.894952</td>\n",
       "      <td>10.038645</td>\n",
       "    </tr>\n",
       "    <tr>\n",
       "      <th>80493</th>\n",
       "      <td>77.572583</td>\n",
       "      <td>114.551489</td>\n",
       "    </tr>\n",
       "    <tr>\n",
       "      <th>2655</th>\n",
       "      <td>77.892640</td>\n",
       "      <td>132.603635</td>\n",
       "    </tr>\n",
       "    <tr>\n",
       "      <th>53233</th>\n",
       "      <td>90.175134</td>\n",
       "      <td>169.072125</td>\n",
       "    </tr>\n",
       "    <tr>\n",
       "      <th>91141</th>\n",
       "      <td>70.510088</td>\n",
       "      <td>122.325180</td>\n",
       "    </tr>\n",
       "    <tr>\n",
       "      <th>...</th>\n",
       "      <td>...</td>\n",
       "      <td>...</td>\n",
       "    </tr>\n",
       "    <tr>\n",
       "      <th>12581</th>\n",
       "      <td>103.037104</td>\n",
       "      <td>170.116726</td>\n",
       "    </tr>\n",
       "    <tr>\n",
       "      <th>18456</th>\n",
       "      <td>85.403255</td>\n",
       "      <td>93.632175</td>\n",
       "    </tr>\n",
       "    <tr>\n",
       "      <th>73035</th>\n",
       "      <td>61.509833</td>\n",
       "      <td>127.352259</td>\n",
       "    </tr>\n",
       "    <tr>\n",
       "      <th>63834</th>\n",
       "      <td>118.180397</td>\n",
       "      <td>99.782700</td>\n",
       "    </tr>\n",
       "    <tr>\n",
       "      <th>43558</th>\n",
       "      <td>118.169392</td>\n",
       "      <td>177.821022</td>\n",
       "    </tr>\n",
       "  </tbody>\n",
       "</table>\n",
       "<p>25000 rows × 2 columns</p>\n",
       "</div>"
      ],
      "text/plain": [
       "       Predictions  Correct Answers\n",
       "71751    95.894952        10.038645\n",
       "80493    77.572583       114.551489\n",
       "2655     77.892640       132.603635\n",
       "53233    90.175134       169.072125\n",
       "91141    70.510088       122.325180\n",
       "...            ...              ...\n",
       "12581   103.037104       170.116726\n",
       "18456    85.403255        93.632175\n",
       "73035    61.509833       127.352259\n",
       "63834   118.180397        99.782700\n",
       "43558   118.169392       177.821022\n",
       "\n",
       "[25000 rows x 2 columns]"
      ]
     },
     "execution_count": 25,
     "metadata": {},
     "output_type": "execute_result"
    }
   ],
   "source": [
    "df00 = pd.DataFrame({'Predictions': predictions_valid, 'Correct Answers': target_valid_0})\n",
    "df00"
   ]
  },
  {
   "cell_type": "code",
   "execution_count": 26,
   "metadata": {},
   "outputs": [
    {
     "name": "stdout",
     "output_type": "stream",
     "text": [
      "Predicted average volume of reserves: 92.59256778438035\n"
     ]
    }
   ],
   "source": [
    "print(\"Predicted average volume of reserves:\", predictions_valid.mean())"
   ]
  },
  {
   "cell_type": "markdown",
   "metadata": {},
   "source": [
    "### Second Region (df1)\n"
   ]
  },
  {
   "cell_type": "code",
   "execution_count": 27,
   "metadata": {},
   "outputs": [
    {
     "name": "stdout",
     "output_type": "stream",
     "text": [
      "The RMSE of the linear regression model in the validation set: 0.8930992867756165\n"
     ]
    }
   ],
   "source": [
    "model = LinearRegression()\n",
    "\n",
    "model.fit(features_train_1,target_train_1) \n",
    "predictions_valid1 = model.predict(features_valid_1)\n",
    "\n",
    "\n",
    "\n",
    "result = mean_squared_error(target_valid_1, predictions_valid1)**0.5\n",
    "\n",
    "\n",
    "print(\"The RMSE of the linear regression model in the validation set:\", result)\n"
   ]
  },
  {
   "cell_type": "code",
   "execution_count": 28,
   "metadata": {},
   "outputs": [
    {
     "data": {
      "text/html": [
       "<div>\n",
       "<style scoped>\n",
       "    .dataframe tbody tr th:only-of-type {\n",
       "        vertical-align: middle;\n",
       "    }\n",
       "\n",
       "    .dataframe tbody tr th {\n",
       "        vertical-align: top;\n",
       "    }\n",
       "\n",
       "    .dataframe thead th {\n",
       "        text-align: right;\n",
       "    }\n",
       "</style>\n",
       "<table border=\"1\" class=\"dataframe\">\n",
       "  <thead>\n",
       "    <tr style=\"text-align: right;\">\n",
       "      <th></th>\n",
       "      <th>Predictions</th>\n",
       "      <th>Correct Answers</th>\n",
       "    </tr>\n",
       "  </thead>\n",
       "  <tbody>\n",
       "    <tr>\n",
       "      <th>71751</th>\n",
       "      <td>82.663314</td>\n",
       "      <td>80.859783</td>\n",
       "    </tr>\n",
       "    <tr>\n",
       "      <th>80493</th>\n",
       "      <td>54.431786</td>\n",
       "      <td>53.906522</td>\n",
       "    </tr>\n",
       "    <tr>\n",
       "      <th>2655</th>\n",
       "      <td>29.748760</td>\n",
       "      <td>30.132364</td>\n",
       "    </tr>\n",
       "    <tr>\n",
       "      <th>53233</th>\n",
       "      <td>53.552133</td>\n",
       "      <td>53.906522</td>\n",
       "    </tr>\n",
       "    <tr>\n",
       "      <th>91141</th>\n",
       "      <td>1.243856</td>\n",
       "      <td>0.000000</td>\n",
       "    </tr>\n",
       "    <tr>\n",
       "      <th>...</th>\n",
       "      <td>...</td>\n",
       "      <td>...</td>\n",
       "    </tr>\n",
       "    <tr>\n",
       "      <th>12581</th>\n",
       "      <td>136.869211</td>\n",
       "      <td>137.945408</td>\n",
       "    </tr>\n",
       "    <tr>\n",
       "      <th>18456</th>\n",
       "      <td>110.693465</td>\n",
       "      <td>110.992147</td>\n",
       "    </tr>\n",
       "    <tr>\n",
       "      <th>73035</th>\n",
       "      <td>137.879341</td>\n",
       "      <td>137.945408</td>\n",
       "    </tr>\n",
       "    <tr>\n",
       "      <th>63834</th>\n",
       "      <td>83.761966</td>\n",
       "      <td>84.038886</td>\n",
       "    </tr>\n",
       "    <tr>\n",
       "      <th>43558</th>\n",
       "      <td>53.958466</td>\n",
       "      <td>53.906522</td>\n",
       "    </tr>\n",
       "  </tbody>\n",
       "</table>\n",
       "<p>25000 rows × 2 columns</p>\n",
       "</div>"
      ],
      "text/plain": [
       "       Predictions  Correct Answers\n",
       "71751    82.663314        80.859783\n",
       "80493    54.431786        53.906522\n",
       "2655     29.748760        30.132364\n",
       "53233    53.552133        53.906522\n",
       "91141     1.243856         0.000000\n",
       "...            ...              ...\n",
       "12581   136.869211       137.945408\n",
       "18456   110.693465       110.992147\n",
       "73035   137.879341       137.945408\n",
       "63834    83.761966        84.038886\n",
       "43558    53.958466        53.906522\n",
       "\n",
       "[25000 rows x 2 columns]"
      ]
     },
     "execution_count": 28,
     "metadata": {},
     "output_type": "execute_result"
    }
   ],
   "source": [
    "df11 = pd.DataFrame({'Predictions': predictions_valid1, 'Correct Answers': target_valid_1})\n",
    "df11"
   ]
  },
  {
   "cell_type": "code",
   "execution_count": 29,
   "metadata": {},
   "outputs": [
    {
     "name": "stdout",
     "output_type": "stream",
     "text": [
      "Predicted average volume of reserves: 68.728546895446\n"
     ]
    }
   ],
   "source": [
    "print(\"Predicted average volume of reserves:\", predictions_valid1.mean())"
   ]
  },
  {
   "cell_type": "markdown",
   "metadata": {},
   "source": [
    "### Third Region (df2)"
   ]
  },
  {
   "cell_type": "code",
   "execution_count": 30,
   "metadata": {},
   "outputs": [
    {
     "name": "stdout",
     "output_type": "stream",
     "text": [
      "The RMSE of the linear regression model in the validation set: 40.02970873393434\n"
     ]
    }
   ],
   "source": [
    "model = LinearRegression()\n",
    "\n",
    "model.fit(features_train_2,target_train_2) \n",
    "predictions_valid2 = model.predict(features_valid_2)\n",
    "\n",
    "\n",
    "\n",
    "result = mean_squared_error(target_valid_2, predictions_valid2)**0.5\n",
    "\n",
    "\n",
    "print(\"The RMSE of the linear regression model in the validation set:\", result)\n"
   ]
  },
  {
   "cell_type": "code",
   "execution_count": 31,
   "metadata": {},
   "outputs": [
    {
     "data": {
      "text/html": [
       "<div>\n",
       "<style scoped>\n",
       "    .dataframe tbody tr th:only-of-type {\n",
       "        vertical-align: middle;\n",
       "    }\n",
       "\n",
       "    .dataframe tbody tr th {\n",
       "        vertical-align: top;\n",
       "    }\n",
       "\n",
       "    .dataframe thead th {\n",
       "        text-align: right;\n",
       "    }\n",
       "</style>\n",
       "<table border=\"1\" class=\"dataframe\">\n",
       "  <thead>\n",
       "    <tr style=\"text-align: right;\">\n",
       "      <th></th>\n",
       "      <th>Predictions</th>\n",
       "      <th>Correct Answers</th>\n",
       "    </tr>\n",
       "  </thead>\n",
       "  <tbody>\n",
       "    <tr>\n",
       "      <th>71751</th>\n",
       "      <td>93.599633</td>\n",
       "      <td>61.212375</td>\n",
       "    </tr>\n",
       "    <tr>\n",
       "      <th>80493</th>\n",
       "      <td>75.105159</td>\n",
       "      <td>41.850118</td>\n",
       "    </tr>\n",
       "    <tr>\n",
       "      <th>2655</th>\n",
       "      <td>90.066809</td>\n",
       "      <td>57.776581</td>\n",
       "    </tr>\n",
       "    <tr>\n",
       "      <th>53233</th>\n",
       "      <td>105.162375</td>\n",
       "      <td>100.053761</td>\n",
       "    </tr>\n",
       "    <tr>\n",
       "      <th>91141</th>\n",
       "      <td>115.303310</td>\n",
       "      <td>109.897122</td>\n",
       "    </tr>\n",
       "    <tr>\n",
       "      <th>...</th>\n",
       "      <td>...</td>\n",
       "      <td>...</td>\n",
       "    </tr>\n",
       "    <tr>\n",
       "      <th>12581</th>\n",
       "      <td>78.765887</td>\n",
       "      <td>28.492402</td>\n",
       "    </tr>\n",
       "    <tr>\n",
       "      <th>18456</th>\n",
       "      <td>95.603394</td>\n",
       "      <td>21.431303</td>\n",
       "    </tr>\n",
       "    <tr>\n",
       "      <th>73035</th>\n",
       "      <td>99.407281</td>\n",
       "      <td>125.487229</td>\n",
       "    </tr>\n",
       "    <tr>\n",
       "      <th>63834</th>\n",
       "      <td>77.779912</td>\n",
       "      <td>99.422903</td>\n",
       "    </tr>\n",
       "    <tr>\n",
       "      <th>43558</th>\n",
       "      <td>129.032417</td>\n",
       "      <td>127.445075</td>\n",
       "    </tr>\n",
       "  </tbody>\n",
       "</table>\n",
       "<p>25000 rows × 2 columns</p>\n",
       "</div>"
      ],
      "text/plain": [
       "       Predictions  Correct Answers\n",
       "71751    93.599633        61.212375\n",
       "80493    75.105159        41.850118\n",
       "2655     90.066809        57.776581\n",
       "53233   105.162375       100.053761\n",
       "91141   115.303310       109.897122\n",
       "...            ...              ...\n",
       "12581    78.765887        28.492402\n",
       "18456    95.603394        21.431303\n",
       "73035    99.407281       125.487229\n",
       "63834    77.779912        99.422903\n",
       "43558   129.032417       127.445075\n",
       "\n",
       "[25000 rows x 2 columns]"
      ]
     },
     "execution_count": 31,
     "metadata": {},
     "output_type": "execute_result"
    }
   ],
   "source": [
    "df22 = pd.DataFrame({'Predictions': predictions_valid2, 'Correct Answers': target_valid_2})\n",
    "df22"
   ]
  },
  {
   "cell_type": "code",
   "execution_count": 32,
   "metadata": {},
   "outputs": [
    {
     "name": "stdout",
     "output_type": "stream",
     "text": [
      "Predicted average volume of reserves: 94.96504596800489\n"
     ]
    }
   ],
   "source": [
    "print(\"Predicted average volume of reserves:\", predictions_valid2.mean())"
   ]
  },
  {
   "cell_type": "markdown",
   "metadata": {},
   "source": [
    "### Conclusion\n",
    "\n",
    "* The Third Region had the worst results, although it had the highest average predicted volume of 94.96504596800489, this was at the cost of an RMSE of 40.02970873393434. The First Region, on the other hand, had an average forecast volume of 92,59256778438035, with a RMSE of 37,5794217150813, performing better than the Third Region, but still with less accurate forecasts. The average predicted volume is high, but how accurate is it? The Second Region had the best RMSE of 0.893099286775617, with very good predictions, but resulted in a sharp drop in the average predicted volume with a value of 68.728546895446, but more accurate."
   ]
  },
  {
   "cell_type": "markdown",
   "metadata": {},
   "source": [
    "## Pre-profit calculation\n",
    "* Store all the values needed for the calculations in separate variables.\n",
    "* Calculate the volume of reserves sufficient to develop a new well without losses. Compare the value received with the average value of reserves in each region.\n",
    "* Provide conclusions on the preparation for the profit calculation stage."
   ]
  },
  {
   "cell_type": "markdown",
   "metadata": {},
   "source": [
    "**Conditions**\n",
    "* When exploring the region, a study of 500 points is carried out and the best 200 points are selected to calculate the profit.\n",
    "* The budget for developing 200 oil wells is 100 million dollars.\n",
    "* A barrel of crude oil brings in 4.5 dollars in revenue. The revenue from one unit of product is 4,500 dollars (the volume of reserves is in thousands of barrels)."
   ]
  },
  {
   "cell_type": "code",
   "execution_count": 33,
   "metadata": {},
   "outputs": [
    {
     "name": "stdout",
     "output_type": "stream",
     "text": [
      "Sum of the volume needed to avoid losses (200 wells): 22222.222222222223\n",
      "Volume required for each well to be profitable: 111.11111111111111\n"
     ]
    }
   ],
   "source": [
    "otp = 100000000\n",
    "cpp=4.5\n",
    "ruv=4500\n",
    "vsp=otp/ruv\n",
    "print('Sum of the volume needed to avoid losses (200 wells):',vsp)\n",
    "rpu=otp/200\n",
    "vpp=rpu/ruv #I used the ruv variable to leave it in the same unit as the dataframe, as I believe I could use the cpp variable as well\n",
    "print('Volume required for each well to be profitable:', vpp)\n"
   ]
  },
  {
   "cell_type": "markdown",
   "metadata": {},
   "source": [
    "### First Region (df0)"
   ]
  },
  {
   "cell_type": "code",
   "execution_count": 34,
   "metadata": {},
   "outputs": [
    {
     "name": "stdout",
     "output_type": "stream",
     "text": [
      "Sum of the best 200 from a set of 500 random originals: 26752.00718761\n"
     ]
    }
   ],
   "source": [
    "df0500a = df0.sample(n=500,random_state=12345)\n",
    "df0200a = df0500a.sort_values(by='product', ascending = False).head(200)\n",
    "soma_df0200a = df0200a['product'].sum()\n",
    "print('Sum of the best 200 from a set of 500 random originals:', soma_df0200a)"
   ]
  },
  {
   "cell_type": "code",
   "execution_count": 35,
   "metadata": {},
   "outputs": [
    {
     "name": "stdout",
     "output_type": "stream",
     "text": [
      "Sum of the best 200 originals: 36966.747929072015\n"
     ]
    }
   ],
   "source": [
    "df0200m = df0.sort_values(by='product', ascending = False).head(200)\n",
    "soma_df0200m = df0200m['product'].sum()\n",
    "print('Sum of the best 200 originals:', soma_df0200m)\n"
   ]
  },
  {
   "cell_type": "code",
   "execution_count": 36,
   "metadata": {},
   "outputs": [
    {
     "name": "stdout",
     "output_type": "stream",
     "text": [
      "Average of the original set: 92.50000000000001\n",
      "Average of the best 200 from a set of 500 original random ones: 133.76003593805\n",
      "Average of the best 200 originals: 184.83373964536008\n"
     ]
    }
   ],
   "source": [
    "print('Average of the original set:',df0['product'].mean())\n",
    "print('Average of the best 200 from a set of 500 original random ones:',df0200a['product'].mean())\n",
    "print('Average of the best 200 originals:',df0200m['product'].mean())"
   ]
  },
  {
   "cell_type": "code",
   "execution_count": 41,
   "metadata": {},
   "outputs": [
    {
     "name": "stdout",
     "output_type": "stream",
     "text": [
      "Sum of the best 200 from a set of 500 random predictions: 23345.215322290172\n"
     ]
    }
   ],
   "source": [
    "df0500ap = df00.sample(n=500,random_state=12345)\n",
    "df0200ap = df0500ap.sort_values(by='Predictions', ascending = False).head(200)\n",
    "soma_df0200ap = df0200ap['Predictions'].sum()\n",
    "print('Sum of the best 200 from a set of 500 random predictions:', soma_df0200ap)"
   ]
  },
  {
   "cell_type": "code",
   "execution_count": 42,
   "metadata": {},
   "outputs": [
    {
     "name": "stdout",
     "output_type": "stream",
     "text": [
      "Sum of the best 200 predicted: 31102.330838811387\n"
     ]
    }
   ],
   "source": [
    "df0200mp = df00.sort_values(by='Predictions', ascending = False).head(200)\n",
    "soma_df0200mp = df0200mp['Predictions'].sum()\n",
    "print('Sum of the best 200 predicted:', soma_df0200mp)"
   ]
  },
  {
   "cell_type": "code",
   "execution_count": 43,
   "metadata": {},
   "outputs": [
    {
     "name": "stdout",
     "output_type": "stream",
     "text": [
      "Average of the predicted set: 92.59256778438035\n",
      "Average of the best 200 from a set of 500 random predictions: 116.72607661145086\n",
      "Average of the best 200 predicted: 155.51165419405694\n"
     ]
    }
   ],
   "source": [
    "print('Average of the predicted set:',df00['Predictions'].mean())\n",
    "print('Average of the best 200 from a set of 500 random predictions:',df0200ap['Predictions'].mean())\n",
    "print('Average of the best 200 predicted:',df0200mp['Predictions'].mean())"
   ]
  },
  {
   "cell_type": "markdown",
   "metadata": {},
   "source": [
    "### Second Region (df1)"
   ]
  },
  {
   "cell_type": "code",
   "execution_count": 44,
   "metadata": {},
   "outputs": [
    {
     "name": "stdout",
     "output_type": "stream",
     "text": [
      "Sum of the best 200 from a set of 500 random originals: 22925.47628046755\n"
     ]
    }
   ],
   "source": [
    "df1500a = df1.sample(n=500,random_state=12345)\n",
    "df1200a = df1500a.sort_values(by='product', ascending = False).head(200)\n",
    "soma_df1200a = df1200a['product'].sum()\n",
    "print('Sum of the best 200 from a set of 500 random originals:', soma_df1200a)"
   ]
  },
  {
   "cell_type": "code",
   "execution_count": 45,
   "metadata": {},
   "outputs": [
    {
     "name": "stdout",
     "output_type": "stream",
     "text": [
      "Sum of the best 200 originals: 27589.081548181137\n"
     ]
    }
   ],
   "source": [
    "df1200m = df1.sort_values(by='product', ascending = False).head(200)\n",
    "soma_df1200m = df1200m['product'].sum()\n",
    "print('Sum of the best 200 originals:', soma_df1200m)"
   ]
  },
  {
   "cell_type": "code",
   "execution_count": 46,
   "metadata": {},
   "outputs": [
    {
     "name": "stdout",
     "output_type": "stream",
     "text": [
      "Average of the original set: 68.82500000000002\n",
      "Average of the best 200 from a set of 500 original random ones: 114.62738140233775\n",
      "Average of the best 200 originals: 137.9454077409057\n"
     ]
    }
   ],
   "source": [
    "print('Average of the original set:',df1['product'].mean())\n",
    "print('Average of the best 200 from a set of 500 original random ones:',df1200a['product'].mean())\n",
    "print('Average of the best 200 originals:',df1200m['product'].mean())"
   ]
  },
  {
   "cell_type": "code",
   "execution_count": 47,
   "metadata": {},
   "outputs": [
    {
     "name": "stdout",
     "output_type": "stream",
     "text": [
      "Sum of the best 200 from a set of 500 random predictions: 23953.82043647271\n"
     ]
    }
   ],
   "source": [
    "df1500ap = df11.sample(n=500,random_state=12345)\n",
    "df1200ap = df1500ap.sort_values(by='Predictions', ascending = False).head(200)\n",
    "soma_df1200ap = df1200ap['Predictions'].sum()\n",
    "print('Sum of the best 200 from a set of 500 random predictions:', soma_df1200ap)"
   ]
  },
  {
   "cell_type": "code",
   "execution_count": 48,
   "metadata": {},
   "outputs": [
    {
     "name": "stdout",
     "output_type": "stream",
     "text": [
      "Sum of the best 200 predicted: 27746.02678216347\n"
     ]
    }
   ],
   "source": [
    "df1200mp = df11.sort_values(by='Predictions', ascending = False).head(200)\n",
    "soma_df1200mp = df1200mp['Predictions'].sum()\n",
    "print('Sum of the best 200 predicted:', soma_df1200mp)"
   ]
  },
  {
   "cell_type": "code",
   "execution_count": 49,
   "metadata": {},
   "outputs": [
    {
     "name": "stdout",
     "output_type": "stream",
     "text": [
      "Average of the predicted set: 68.728546895446\n",
      "Average of the best 200 from a set of 500 random predictions: 119.76910218236355\n",
      "Average of the best 200 predicted: 138.73013391081736\n"
     ]
    }
   ],
   "source": [
    "print('Average of the predicted set:',df11['Predictions'].mean())\n",
    "print('Average of the best 200 from a set of 500 random predictions:',df1200ap['Predictions'].mean())\n",
    "print('Average of the best 200 predicted:',df1200mp['Predictions'].mean())"
   ]
  },
  {
   "cell_type": "markdown",
   "metadata": {},
   "source": [
    "### Third Region (df2)"
   ]
  },
  {
   "cell_type": "code",
   "execution_count": 50,
   "metadata": {},
   "outputs": [
    {
     "name": "stdout",
     "output_type": "stream",
     "text": [
      "Sum of the best 200 from a set of 500 random originals: 27624.85559975184\n"
     ]
    }
   ],
   "source": [
    "df2500a = df2.sample(n=500,random_state=12345)\n",
    "df2200a = df2500a.sort_values(by='product', ascending = False).head(200)\n",
    "soma_df2200a = df2200a['product'].sum()\n",
    "print('Sum of the best 200 from a set of 500 random originals:', soma_df2200a)"
   ]
  },
  {
   "cell_type": "code",
   "execution_count": 51,
   "metadata": {},
   "outputs": [
    {
     "name": "stdout",
     "output_type": "stream",
     "text": [
      "Sum of the best 200 originals: 37910.29539635329\n"
     ]
    }
   ],
   "source": [
    "df2200m = df2.sort_values(by='product', ascending = False).head(200)\n",
    "soma_df2200m = df2200m['product'].sum()\n",
    "print('Sum of the best 200 originals:', soma_df2200m)"
   ]
  },
  {
   "cell_type": "code",
   "execution_count": 52,
   "metadata": {},
   "outputs": [
    {
     "name": "stdout",
     "output_type": "stream",
     "text": [
      "Average of the original set: 95.00000000000004\n",
      "Average of the best 200 from a set of 500 original random ones: 138.1242779987592\n",
      "Average of the best 200 originals: 189.55147698176646\n"
     ]
    }
   ],
   "source": [
    "print('Average of the original set:',df2['product'].mean())\n",
    "print('Average of the best 200 from a set of 500 original random ones:',df2200a['product'].mean())\n",
    "print('Average of the best 200 originals:',df2200m['product'].mean())"
   ]
  },
  {
   "cell_type": "code",
   "execution_count": 53,
   "metadata": {},
   "outputs": [
    {
     "name": "stdout",
     "output_type": "stream",
     "text": [
      "Sum of the best 200 from a set of 500 random predictions: 22978.221506140977\n"
     ]
    }
   ],
   "source": [
    "df2500ap = df22.sample(n=500,random_state=12345)\n",
    "df2200ap = df2500ap.sort_values(by='Predictions', ascending = False).head(200)\n",
    "soma_df2200ap = df2200ap['Predictions'].sum()\n",
    "print('Sum of the best 200 from a set of 500 random predictions:', soma_df2200ap)"
   ]
  },
  {
   "cell_type": "code",
   "execution_count": 54,
   "metadata": {},
   "outputs": [
    {
     "name": "stdout",
     "output_type": "stream",
     "text": [
      "Sum of the best 200 predicted: 29603.898658318358\n"
     ]
    }
   ],
   "source": [
    "df2200mp = df22.sort_values(by='Predictions', ascending = False).head(200)\n",
    "soma_df2200mp = df2200mp['Predictions'].sum()\n",
    "print('Sum of the best 200 predicted:', soma_df2200mp)"
   ]
  },
  {
   "cell_type": "code",
   "execution_count": 55,
   "metadata": {},
   "outputs": [
    {
     "name": "stdout",
     "output_type": "stream",
     "text": [
      "Average of the predicted set: 94.96504596800489\n",
      "Average of the best 200 from a set of 500 random predictions: 114.89110753070489\n",
      "Average of the best 200 predicted: 148.0194932915918\n"
     ]
    }
   ],
   "source": [
    "print('Average of the predicted set:',df22['Predictions'].mean())\n",
    "print('Average of the best 200 from a set of 500 random predictions:',df2200ap['Predictions'].mean())\n",
    "print('Average of the best 200 predicted:',df2200mp['Predictions'].mean())"
   ]
  },
  {
   "cell_type": "markdown",
   "metadata": {},
   "source": [
    "### Conclusion\n",
    "\n",
    "* All of them made a profit as they were above the minimum value of 22222. However, when comparing the value of each well and their predicted averages calculated previously, none made a profit. The Third Region was the closest to the value of 111 with an average of 94. In conclusion, in order to make a profit, 200 wells will have to be installed, as just one may be too risky. \n",
    "\n",
    "* Region One: The best 200 had higher values than the random best 200, which was to be expected, but the original best 200 had a higher sum than the predicted best 200, which means that the model is usually getting its prediction wrong. \n",
    "* Second region: The same happens with the best 200 and the best 200 random. We see a change in behavior when comparing the original and predicted values, with the original best 200 having a lower sum than the predicted best 200, which means that the model is usually getting its prediction wrong. \n",
    "* Third Region: Same behavior as the first region, the best 200 had higher values than the random best 200 and the original best 200 had a higher sum than the predicted best 200.\n",
    "\n",
    "* Proximity of Values: The region that had the closest predicted values to the originals was the Second Region, since it has the lowest RMSE, and this order follows the same RMSE values from lowest to highest. In terms of the highest predictions, the Third Region had the best figures (since its RMSE is the highest), but at the cost of lower accuracy.\n",
    "\n",
    "* Averages: The averages between the original and predicted sets compared within their own region are very close. The averages compared to each other in the random sets of their respective region are not close, concluding that even if we take a set of 500 random sets, whether predicted or not, and choose the best 200, there will be an increase in the average."
   ]
  },
  {
   "cell_type": "markdown",
   "metadata": {},
   "source": [
    "## Profit Calculation Function\n",
    "\n",
    "* Write a function to calculate profit for a set of selected oil wells and model predictions:\n",
    "* Choose the wells with the highest prediction values.\n",
    "* Summarize the target volume of reserves according to these predictions.\n",
    "* Present your conclusions: suggest a region for oil well development and justify your choice. Calculate the profit for the volume of reserves received."
   ]
  },
  {
   "cell_type": "markdown",
   "metadata": {},
   "source": [
    "**Conditions**\n",
    "* When exploring the region, a study of 500 points is carried out and the best 200 points are selected to calculate the profit.\n",
    "* The budget for developing 200 oil wells is 100 million dollars.\n",
    "* A barrel of crude oil brings in 4.5 dollars in revenue. The revenue from one unit of product is 4,500 dollars (the volume of reserves is in thousands of barrels)."
   ]
  },
  {
   "cell_type": "code",
   "execution_count": 56,
   "metadata": {},
   "outputs": [],
   "source": [
    "def lucro(dataframe1, coluna1):\n",
    "    x = (dataframe1[coluna1]*4500)\n",
    "    x.hist()\n",
    "    y = (x.sum()) - 100000000\n",
    "        \n",
    "    return y"
   ]
  },
  {
   "cell_type": "markdown",
   "metadata": {},
   "source": [
    "### First Region (df0)"
   ]
  },
  {
   "cell_type": "code",
   "execution_count": 57,
   "metadata": {},
   "outputs": [],
   "source": [
    "df00200=df00.sort_values(by='Predictions', ascending = False).head(200)"
   ]
  },
  {
   "cell_type": "code",
   "execution_count": 58,
   "metadata": {
    "scrolled": false
   },
   "outputs": [
    {
     "name": "stdout",
     "output_type": "stream",
     "text": [
      "First Region profit: 39960488.77465126\n"
     ]
    },
    {
     "data": {
      "image/png": "[encoded data removed]",
      "text/plain": [
       "<Figure size 640x480 with 1 Axes>"
      ]
     },
     "metadata": {},
     "output_type": "display_data"
    }
   ],
   "source": [
    "lucro0o = lucro(df00200,'Predictions')\n",
    "print('First Region profit:',lucro0o)"
   ]
  },
  {
   "cell_type": "markdown",
   "metadata": {},
   "source": [
    "### Second Region (df1)"
   ]
  },
  {
   "cell_type": "code",
   "execution_count": 60,
   "metadata": {},
   "outputs": [],
   "source": [
    "df11200=df11.sort_values(by='Predictions', ascending = False).head(200)"
   ]
  },
  {
   "cell_type": "code",
   "execution_count": 61,
   "metadata": {},
   "outputs": [
    {
     "name": "stdout",
     "output_type": "stream",
     "text": [
      "Second Region profit: 24857120.519735605\n"
     ]
    },
    {
     "data": {
      "image/png": "[encoded data removed]",
      "text/plain": [
       "<Figure size 640x480 with 1 Axes>"
      ]
     },
     "metadata": {},
     "output_type": "display_data"
    }
   ],
   "source": [
    "lucro1o = lucro(df11200, 'Predictions')\n",
    "print('Second Region profit:',lucro1o)"
   ]
  },
  {
   "cell_type": "markdown",
   "metadata": {},
   "source": [
    "### Third Region (df2)"
   ]
  },
  {
   "cell_type": "code",
   "execution_count": 62,
   "metadata": {},
   "outputs": [],
   "source": [
    "df22200=df22.sort_values(by='Predictions', ascending = False).head(200)"
   ]
  },
  {
   "cell_type": "code",
   "execution_count": 63,
   "metadata": {},
   "outputs": [
    {
     "name": "stdout",
     "output_type": "stream",
     "text": [
      "Third Region profit: 33217543.962432608\n"
     ]
    },
    {
     "data": {
      "image/png": "[encoded data removed]",
      "text/plain": [
       "<Figure size 640x480 with 1 Axes>"
      ]
     },
     "metadata": {},
     "output_type": "display_data"
    }
   ],
   "source": [
    "lucro2o = lucro(df22200, 'Predictions')\n",
    "print('Third Region profit:',lucro2o)"
   ]
  },
  {
   "cell_type": "markdown",
   "metadata": {},
   "source": [
    "### Conclusion\n",
    "\n",
    "* The First Region obtained the best result out of the top 200 wells predicted. Close behind is the Third Region, which I believe is due to the fact that the first graph has a similar shape between these two regions."
   ]
  },
  {
   "cell_type": "markdown",
   "metadata": {},
   "source": [
    "## Risks and Profits\n",
    "\n",
    "Calculate risks and profits for each region:\n",
    "* Use the bootstrapping technique with 1000 samples to find the profit distribution.\n",
    "* Find the average profit, 95% confidence interval and risk of loss. Loss is a negative profit, calculate it as a probability and then express it as a percentage.\n",
    "* Present your conclusions: suggest a region for the development of oil wells and justify your choice."
   ]
  },
  {
   "cell_type": "code",
   "execution_count": 64,
   "metadata": {},
   "outputs": [],
   "source": [
    "def boot(data):\n",
    "    n_bootstrap = 1000\n",
    "\n",
    "    bootstrap_lucros = []\n",
    "\n",
    "    for i in range(n_bootstrap):\n",
    "        bootstrap_sample = data.sample(500, replace=True)\n",
    "        bootstrap_lucros.append(\n",
    "            (\n",
    "                bootstrap_sample\n",
    "                .sort_values(\"Predictions\", ascending=False)\n",
    "                .head(200)['Correct Answers']\n",
    "                .sum()\n",
    "            ) * ruv - otp\n",
    "        )\n",
    "\n",
    "    bootstrap_lucros = np.array(bootstrap_lucros)\n",
    "\n",
    "    media_lucro = bootstrap_lucros.mean()\n",
    "    lower_bound = np.percentile(bootstrap_lucros, 2.5)\n",
    "    upper_bound = np.percentile(bootstrap_lucros, 97.5)\n",
    "\n",
    "    prejuizo_probabilidade = np.mean(bootstrap_lucros < 0)\n",
    "    prejuizo_porcentagem = prejuizo_probabilidade * 100\n",
    "\n",
    "    print(\"Average profit:\", media_lucro)\n",
    "    print(\"95% confidence interval:\", lower_bound, \"-\", upper_bound)\n",
    "    print(\"Risk of loss:\", prejuizo_porcentagem, \"%\")"
   ]
  },
  {
   "cell_type": "markdown",
   "metadata": {},
   "source": [
    "### First Region (df0)"
   ]
  },
  {
   "cell_type": "code",
   "execution_count": 65,
   "metadata": {
    "scrolled": true
   },
   "outputs": [
    {
     "name": "stdout",
     "output_type": "stream",
     "text": [
      "Average profit: 3851704.448998626\n",
      "95% confidence interval: -1486067.8759845616 - 9118384.152147707\n",
      "Risk of loss: 7.5 %\n"
     ]
    }
   ],
   "source": [
    "boot(df00)"
   ]
  },
  {
   "cell_type": "markdown",
   "metadata": {},
   "source": [
    "### Second Region (df1)"
   ]
  },
  {
   "cell_type": "code",
   "execution_count": 66,
   "metadata": {
    "scrolled": true
   },
   "outputs": [
    {
     "name": "stdout",
     "output_type": "stream",
     "text": [
      "Average profit: 4588738.297986431\n",
      "95% confidence interval: 273595.01730556384 - 8787414.879087778\n",
      "Risk of loss: 1.6 %\n"
     ]
    }
   ],
   "source": [
    "boot(df11)"
   ]
  },
  {
   "cell_type": "markdown",
   "metadata": {},
   "source": [
    "### Third Region (df2)"
   ]
  },
  {
   "cell_type": "code",
   "execution_count": 67,
   "metadata": {
    "scrolled": true
   },
   "outputs": [
    {
     "name": "stdout",
     "output_type": "stream",
     "text": [
      "Average profit: 3856015.0334548727\n",
      "95% confidence interval: -1404810.8791180924 - 9219511.778307928\n",
      "Risk of loss: 7.5 %\n"
     ]
    }
   ],
   "source": [
    "boot(df22)"
   ]
  },
  {
   "cell_type": "markdown",
   "metadata": {},
   "source": [
    "### Conclusion\n",
    "\n",
    "* The second region obtained the best results in terms of average profit, confidence interval and risk of loss."
   ]
  },
  {
   "cell_type": "markdown",
   "metadata": {},
   "source": [
    "## General conclusion\n",
    "\n",
    "* The Third Region behaved very similarly to the First. Compared to the Second Region, the Second Region obtained better results in the most important tests, such as the bootstrapping technique, because I believe that when choosing a region, you should consider the whole region and not just the best results. The Second Region's behavior is different from the others because its 'population' is arranged differently in the graphs. I believe that this made the Second Region do better in the bootstrap and consequently be the region chosen because it has more average profit, a better confinement interval and, above all, the lowest percentage of loss.\n",
    "\n",
    "**The region chosen was the Second**"
   ]
  }
 ],
 "metadata": {
  "kernelspec": {
   "display_name": "Python 3 (ipykernel)",
   "language": "python",
   "name": "python3"
  },
  "language_info": {
   "codemirror_mode": {
    "name": "ipython",
    "version": 3
   },
   "file_extension": ".py",
   "mimetype": "text/x-python",
   "name": "python",
   "nbconvert_exporter": "python",
   "pygments_lexer": "ipython3",
   "version": "3.11.3"
  },
  "toc": {
   "base_numbering": 1,
   "nav_menu": {},
   "number_sections": true,
   "sideBar": true,
   "skip_h1_title": true,
   "title_cell": "Table of Contents",
   "title_sidebar": "Contents",
   "toc_cell": false,
   "toc_position": {
    "height": "calc(100% - 180px)",
    "left": "10px",
    "top": "150px",
    "width": "364.391px"
   },
   "toc_section_display": true,
   "toc_window_display": true
  }
 },
 "nbformat": 4,
 "nbformat_minor": 2
}
